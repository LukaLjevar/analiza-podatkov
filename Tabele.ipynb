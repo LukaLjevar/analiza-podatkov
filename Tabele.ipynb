{
 "cells": [
  {
   "cell_type": "code",
   "execution_count": 49,
   "id": "initial_id",
   "metadata": {
    "ExecuteTime": {
     "end_time": "2023-08-30T08:54:23.170431700Z",
     "start_time": "2023-08-30T08:54:23.134585500Z"
    }
   },
   "outputs": [
    {
     "data": {
      "text/plain": "                                    Ime_Produkta  Število_Ocen  \\\n0       Whirlpool WH1410 A+E zamrzovalna skrinja         262.0   \n1             Gorenje FN4171CW zamrzovalna omara         102.0   \n2              Gorenje F4141PW zamrzovalna omara          88.0   \n3               Gorenje F492PW zamrzovalna omara          24.0   \n4            Beko RFSA240M31WN zamrzovalna omara          60.0   \n5            Beko RFNE312E43WN zamrzovalna omara          63.0   \n6  VOX electronics BE1-200RL zamrzovalna skrinja           2.0   \n7            Gorenje FN619FEW5 zamrzovalna omara          41.0   \n8            Gorenje zamrzovalna skrinja FH451CW          57.0   \n9  VOX electronics VF 2520 S F zamrzovalna omara           3.0   \n\n                                                Opis Razpoložljivost  \\\n0  Zamrzovalna skrinja v energijskem razredu F in...           JUTRI   \n1  Gorenje zamrzovalna omara ima 194 litrov prost...           JUTRI   \n2  Gorenje zamrzovalna omara ima 165 litrov prost...           JUTRI   \n3  Prostostoječa zamrzovalna omara F492PW se zahv...           JUTRI   \n4  Zamrzovalna omara Beko RFSA240M31WN z 215 litr...           JUTRI   \n5  Prostostoječo zamrzovalno omaro Beko RFNE312E4...           JUTRI   \n6  Vox-electronics BE1–200RL je zamrzovalna skrin...           JUTRI   \n7  Gorenje zmrzovalna omara FN619FEW5 spada v ene...           JUTRI   \n8  Zamrzovalna skrinja v energijskem razredu E s ...           JUTRI   \n9  Vox prostorna zamrzovalna omara nudi 168 l pro...           JUTRI   \n\n     Partner  Cena_v_Evrih  \n0  Mimovrste        239.99  \n1  Mimovrste        419.90  \n2  Mimovrste        329.00  \n3  Mimovrste        259.90  \n4  Mimovrste        374.30  \n5  Mimovrste        613.50  \n6  Mimovrste        206.99  \n7  Mimovrste        499.99  \n8  Mimovrste        429.90  \n9  Mimovrste        260.99  ",
      "text/html": "<div>\n<style scoped>\n    .dataframe tbody tr th:only-of-type {\n        vertical-align: middle;\n    }\n\n    .dataframe tbody tr th {\n        vertical-align: top;\n    }\n\n    .dataframe thead th {\n        text-align: right;\n    }\n</style>\n<table border=\"1\" class=\"dataframe\">\n  <thead>\n    <tr style=\"text-align: right;\">\n      <th></th>\n      <th>Ime_Produkta</th>\n      <th>Število_Ocen</th>\n      <th>Opis</th>\n      <th>Razpoložljivost</th>\n      <th>Partner</th>\n      <th>Cena_v_Evrih</th>\n    </tr>\n  </thead>\n  <tbody>\n    <tr>\n      <th>0</th>\n      <td>Whirlpool WH1410 A+E zamrzovalna skrinja</td>\n      <td>262.0</td>\n      <td>Zamrzovalna skrinja v energijskem razredu F in...</td>\n      <td>JUTRI</td>\n      <td>Mimovrste</td>\n      <td>239.99</td>\n    </tr>\n    <tr>\n      <th>1</th>\n      <td>Gorenje FN4171CW zamrzovalna omara</td>\n      <td>102.0</td>\n      <td>Gorenje zamrzovalna omara ima 194 litrov prost...</td>\n      <td>JUTRI</td>\n      <td>Mimovrste</td>\n      <td>419.90</td>\n    </tr>\n    <tr>\n      <th>2</th>\n      <td>Gorenje F4141PW zamrzovalna omara</td>\n      <td>88.0</td>\n      <td>Gorenje zamrzovalna omara ima 165 litrov prost...</td>\n      <td>JUTRI</td>\n      <td>Mimovrste</td>\n      <td>329.00</td>\n    </tr>\n    <tr>\n      <th>3</th>\n      <td>Gorenje F492PW zamrzovalna omara</td>\n      <td>24.0</td>\n      <td>Prostostoječa zamrzovalna omara F492PW se zahv...</td>\n      <td>JUTRI</td>\n      <td>Mimovrste</td>\n      <td>259.90</td>\n    </tr>\n    <tr>\n      <th>4</th>\n      <td>Beko RFSA240M31WN zamrzovalna omara</td>\n      <td>60.0</td>\n      <td>Zamrzovalna omara Beko RFSA240M31WN z 215 litr...</td>\n      <td>JUTRI</td>\n      <td>Mimovrste</td>\n      <td>374.30</td>\n    </tr>\n    <tr>\n      <th>5</th>\n      <td>Beko RFNE312E43WN zamrzovalna omara</td>\n      <td>63.0</td>\n      <td>Prostostoječo zamrzovalno omaro Beko RFNE312E4...</td>\n      <td>JUTRI</td>\n      <td>Mimovrste</td>\n      <td>613.50</td>\n    </tr>\n    <tr>\n      <th>6</th>\n      <td>VOX electronics BE1-200RL zamrzovalna skrinja</td>\n      <td>2.0</td>\n      <td>Vox-electronics BE1–200RL je zamrzovalna skrin...</td>\n      <td>JUTRI</td>\n      <td>Mimovrste</td>\n      <td>206.99</td>\n    </tr>\n    <tr>\n      <th>7</th>\n      <td>Gorenje FN619FEW5 zamrzovalna omara</td>\n      <td>41.0</td>\n      <td>Gorenje zmrzovalna omara FN619FEW5 spada v ene...</td>\n      <td>JUTRI</td>\n      <td>Mimovrste</td>\n      <td>499.99</td>\n    </tr>\n    <tr>\n      <th>8</th>\n      <td>Gorenje zamrzovalna skrinja FH451CW</td>\n      <td>57.0</td>\n      <td>Zamrzovalna skrinja v energijskem razredu E s ...</td>\n      <td>JUTRI</td>\n      <td>Mimovrste</td>\n      <td>429.90</td>\n    </tr>\n    <tr>\n      <th>9</th>\n      <td>VOX electronics VF 2520 S F zamrzovalna omara</td>\n      <td>3.0</td>\n      <td>Vox prostorna zamrzovalna omara nudi 168 l pro...</td>\n      <td>JUTRI</td>\n      <td>Mimovrste</td>\n      <td>260.99</td>\n    </tr>\n  </tbody>\n</table>\n</div>"
     },
     "execution_count": 49,
     "metadata": {},
     "output_type": "execute_result"
    }
   ],
   "source": [
    "import pandas as pd\n",
    "#index_col=0 odstrani nepotreben stolpec \"Unnamed\"\n",
    "zmrzovalniki = pd.read_csv(\"podatki.csv\", sep=\";\", index_col=0)\n",
    "# Izpis začetka dataframea\n",
    "zmrzovalniki.head(10)"
   ]
  },
  {
   "cell_type": "code",
   "execution_count": 51,
   "id": "7e404d2f6cec57f",
   "metadata": {
    "collapsed": false,
    "ExecuteTime": {
     "end_time": "2023-08-30T08:55:08.181677500Z",
     "start_time": "2023-08-30T08:55:08.124917100Z"
    }
   },
   "outputs": [
    {
     "data": {
      "text/plain": "                                     Ime_Produkta  Število_Ocen  \\\n10                      LORD F7 zamrzovalna omara          29.0   \n33    VOX electronics VF 1020 F zamrzovalna omara           1.0   \n15                 Vivax Zamrzovalna omara TTF-60           1.0   \n19   VOX electronics VF 1200 F zamrzovalnik, 63 l           3.0   \n62                    GUZZANTI GZ 99 zamrzovalnik           7.0   \n11         VOX electronics VF 1510 F zamrzovalnik          48.0   \n66  Compass Hladilna skrinja 50l 230V/12V mobilna           NaN   \n38             Candy CUHS 38 FW zamrzovalna omara           NaN   \n6   VOX electronics BE1-200RL zamrzovalna skrinja           2.0   \n67            GUZZANTI zamrzovalna skrinja GZ 109          24.0   \n\n                                                 Opis Razpoložljivost  \\\n10  Mini zamrzovalna omara Lord F7 s 33 litri pros...           JUTRI   \n33  Vox zamrzovalna omara z dvema predaloma in eno...           31.8.   \n15                             Zavzame malo prostora.           31.8.   \n19  VOX zamrzovalna omara VF 1200F je cenovno ugod...           JUTRI   \n62  Samostoječi zamrzovalnik v energetskem razredu...             NaN   \n11  Prostostoječi vertikalni zamrzovalnik Vox VF 1...           JUTRI   \n66  Prenosni hladilnik z možnostjo ogrevanja, ki s...             NaN   \n38  Zamrzovalna omara Candy CUHS 38 FW s skupno pr...            4.9.   \n6   Vox-electronics BE1–200RL je zamrzovalna skrin...           JUTRI   \n67  Zamrzovalna skrinja Guzzanti GZ 109 v energijs...             NaN   \n\n      Partner  Cena_v_Evrih  \n10  Mimovrste        149.99  \n33  Mimovrste        152.99  \n15        NaN        159.90  \n19  Mimovrste        170.99  \n62  Mimovrste        175.50  \n11  Mimovrste        179.99  \n66        NaN        199.37  \n38  Mimovrste        199.90  \n6   Mimovrste        206.99  \n67  Mimovrste        218.69  ",
      "text/html": "<div>\n<style scoped>\n    .dataframe tbody tr th:only-of-type {\n        vertical-align: middle;\n    }\n\n    .dataframe tbody tr th {\n        vertical-align: top;\n    }\n\n    .dataframe thead th {\n        text-align: right;\n    }\n</style>\n<table border=\"1\" class=\"dataframe\">\n  <thead>\n    <tr style=\"text-align: right;\">\n      <th></th>\n      <th>Ime_Produkta</th>\n      <th>Število_Ocen</th>\n      <th>Opis</th>\n      <th>Razpoložljivost</th>\n      <th>Partner</th>\n      <th>Cena_v_Evrih</th>\n    </tr>\n  </thead>\n  <tbody>\n    <tr>\n      <th>10</th>\n      <td>LORD F7 zamrzovalna omara</td>\n      <td>29.0</td>\n      <td>Mini zamrzovalna omara Lord F7 s 33 litri pros...</td>\n      <td>JUTRI</td>\n      <td>Mimovrste</td>\n      <td>149.99</td>\n    </tr>\n    <tr>\n      <th>33</th>\n      <td>VOX electronics VF 1020 F zamrzovalna omara</td>\n      <td>1.0</td>\n      <td>Vox zamrzovalna omara z dvema predaloma in eno...</td>\n      <td>31.8.</td>\n      <td>Mimovrste</td>\n      <td>152.99</td>\n    </tr>\n    <tr>\n      <th>15</th>\n      <td>Vivax Zamrzovalna omara TTF-60</td>\n      <td>1.0</td>\n      <td>Zavzame malo prostora.</td>\n      <td>31.8.</td>\n      <td>NaN</td>\n      <td>159.90</td>\n    </tr>\n    <tr>\n      <th>19</th>\n      <td>VOX electronics VF 1200 F zamrzovalnik, 63 l</td>\n      <td>3.0</td>\n      <td>VOX zamrzovalna omara VF 1200F je cenovno ugod...</td>\n      <td>JUTRI</td>\n      <td>Mimovrste</td>\n      <td>170.99</td>\n    </tr>\n    <tr>\n      <th>62</th>\n      <td>GUZZANTI GZ 99 zamrzovalnik</td>\n      <td>7.0</td>\n      <td>Samostoječi zamrzovalnik v energetskem razredu...</td>\n      <td>NaN</td>\n      <td>Mimovrste</td>\n      <td>175.50</td>\n    </tr>\n    <tr>\n      <th>11</th>\n      <td>VOX electronics VF 1510 F zamrzovalnik</td>\n      <td>48.0</td>\n      <td>Prostostoječi vertikalni zamrzovalnik Vox VF 1...</td>\n      <td>JUTRI</td>\n      <td>Mimovrste</td>\n      <td>179.99</td>\n    </tr>\n    <tr>\n      <th>66</th>\n      <td>Compass Hladilna skrinja 50l 230V/12V mobilna</td>\n      <td>NaN</td>\n      <td>Prenosni hladilnik z možnostjo ogrevanja, ki s...</td>\n      <td>NaN</td>\n      <td>NaN</td>\n      <td>199.37</td>\n    </tr>\n    <tr>\n      <th>38</th>\n      <td>Candy CUHS 38 FW zamrzovalna omara</td>\n      <td>NaN</td>\n      <td>Zamrzovalna omara Candy CUHS 38 FW s skupno pr...</td>\n      <td>4.9.</td>\n      <td>Mimovrste</td>\n      <td>199.90</td>\n    </tr>\n    <tr>\n      <th>6</th>\n      <td>VOX electronics BE1-200RL zamrzovalna skrinja</td>\n      <td>2.0</td>\n      <td>Vox-electronics BE1–200RL je zamrzovalna skrin...</td>\n      <td>JUTRI</td>\n      <td>Mimovrste</td>\n      <td>206.99</td>\n    </tr>\n    <tr>\n      <th>67</th>\n      <td>GUZZANTI zamrzovalna skrinja GZ 109</td>\n      <td>24.0</td>\n      <td>Zamrzovalna skrinja Guzzanti GZ 109 v energijs...</td>\n      <td>NaN</td>\n      <td>Mimovrste</td>\n      <td>218.69</td>\n    </tr>\n  </tbody>\n</table>\n</div>"
     },
     "execution_count": 51,
     "metadata": {},
     "output_type": "execute_result"
    }
   ],
   "source": [
    "zmrzovalniki.sort_values(\"Cena_v_Evrih\").head(10)"
   ]
  },
  {
   "cell_type": "code",
   "execution_count": 54,
   "outputs": [
    {
     "data": {
      "text/plain": "                                         Ime_Produkta  Število_Ocen  \\\n43            Candy CVIOUS 514 FWHE zamrzovalna omara           NaN   \n44               Bosch GIV11AFE0 vgradni zamrzovalnik           NaN   \n46       Liebherr FNd 5227 zamrzovalna omara, NoFrost           NaN   \n47       Liebherr FNc 7277 zamrzovalna omara, NoFrost           NaN   \n48  Liebherr UG 1211 okrasna podpultna zamrzovalna...           NaN   \n49       Liebherr FNc 7076 zamrzovalna omara, NoFrost           NaN   \n50  Liebherr IFNe 3503 vgradna zamrzovalna omara s...           NaN   \n51  Liebherr SIFNAe 5188 vgradna zamrzovalna omara...           NaN   \n52       Liebherr FNd 4625 zamrzovalna omara, NoFrost           NaN   \n53       Liebherr FNd 7026 zamrzovalna omara, NoFrost           NaN   \n55  Liebherr IFNc 3553 vgradna zamrzovalna omara s...           NaN   \n56  Liebherr SFNbsd 529i samostojna zamrzovalna om...           NaN   \n57            Indesit OS 1A 200 H zamrzovalna skrinja           NaN   \n58       Liebherr FNc 6625 zamrzovalna omara, NoFrost           NaN   \n59  Liebherr SFNsdd 5267 zamrzovalna omara s siste...           NaN   \n61  Whirlpool WHE3133.1 prostostoječa zamrzovalna ...           NaN   \n64  Liebherr FNc 4675 samostojna zamrzovalna omara...           NaN   \n65               Bosch GIN81AEF0 vgradni zamrzovalnik           NaN   \n66      Compass Hladilna skrinja 50l 230V/12V mobilna           NaN   \n68                Indesit UI6 1 W.1 zamrzovalna omara           NaN   \n\n                                                 Opis Razpoložljivost  \\\n43  Zamrzovalna omara Candy CVIOUS 514 FWHE s skup...            4.9.   \n44  Vgradni zamrzovalnik Bosch GIV11AFE0 odlikuje ...            4.9.   \n46  Liebherr zamrzovalna omara s prostornino 277 l...            7.9.   \n47  Liebherr zamrzovalna omara s prostornino 363 l...           11.9.   \n48  Okrasna podpultna zamrzovalna omara UG 1211 so...            7.9.   \n49  Liebherr zamrzovalna omara s prostornino 311,6...            7.9.   \n50  Vgradna zamrzovalna omara Liebherr IFNe 3503 s...           11.9.   \n51  Vgradna zamrzovalna omara Liebherr SIFNAe 5188...           11.9.   \n52  Liebherr zamrzovalna omara s prostornino 199 l...            7.9.   \n53  Liebherr zamrzovalna omara s prostornino 311 l...            7.9.   \n55  Vgradna zamrzovalna omara Liebherr IFNc 3553 s...           11.9.   \n56  Samostojna zamrzovalna omara Liebherr SFNbsd 5...            7.9.   \n57  Indesit zamrzovalna skrinja OS 1A 200 H ima 20...            4.9.   \n58  Liebherr zamrzovalna omara s prostornino 260 l...            7.9.   \n59  Samostojna zamrzovalna omara Liebherr SFNsdd 5...            7.9.   \n61  Whirlpool WHE3133.1 prostostoječa zamrzovalna ...             NaN   \n64  Samostojna zamrzovalna omara Liebherr FNc 4675...             NaN   \n65  Vgradni zamrzovalnik Bosch GIN81AEF0 odlikuje ...             NaN   \n66  Prenosni hladilnik z možnostjo ogrevanja, ki s...             NaN   \n68  Indesit zamrzovalna omara UI6 1 W.1 spada v en...             NaN   \n\n      Partner  Cena_v_Evrih  \n43  Mimovrste        359.90  \n44  Mimovrste        623.00  \n46  Mimovrste        979.00  \n47  Mimovrste       1599.00  \n48  Mimovrste        879.00  \n49  Mimovrste       1499.00  \n50  Mimovrste        899.19  \n51  Mimovrste       3349.00  \n52  Mimovrste        879.00  \n53  Mimovrste       1049.00  \n55  Mimovrste        999.00  \n56  Mimovrste       2249.00  \n57  Mimovrste        341.00  \n58  Mimovrste       1149.00  \n59  Mimovrste       1599.00  \n61  Mimovrste        479.90  \n64  Mimovrste       1379.19  \n65  Mimovrste       1005.49  \n66        NaN        199.37  \n68  Mimovrste        465.00  ",
      "text/html": "<div>\n<style scoped>\n    .dataframe tbody tr th:only-of-type {\n        vertical-align: middle;\n    }\n\n    .dataframe tbody tr th {\n        vertical-align: top;\n    }\n\n    .dataframe thead th {\n        text-align: right;\n    }\n</style>\n<table border=\"1\" class=\"dataframe\">\n  <thead>\n    <tr style=\"text-align: right;\">\n      <th></th>\n      <th>Ime_Produkta</th>\n      <th>Število_Ocen</th>\n      <th>Opis</th>\n      <th>Razpoložljivost</th>\n      <th>Partner</th>\n      <th>Cena_v_Evrih</th>\n    </tr>\n  </thead>\n  <tbody>\n    <tr>\n      <th>43</th>\n      <td>Candy CVIOUS 514 FWHE zamrzovalna omara</td>\n      <td>NaN</td>\n      <td>Zamrzovalna omara Candy CVIOUS 514 FWHE s skup...</td>\n      <td>4.9.</td>\n      <td>Mimovrste</td>\n      <td>359.90</td>\n    </tr>\n    <tr>\n      <th>44</th>\n      <td>Bosch GIV11AFE0 vgradni zamrzovalnik</td>\n      <td>NaN</td>\n      <td>Vgradni zamrzovalnik Bosch GIV11AFE0 odlikuje ...</td>\n      <td>4.9.</td>\n      <td>Mimovrste</td>\n      <td>623.00</td>\n    </tr>\n    <tr>\n      <th>46</th>\n      <td>Liebherr FNd 5227 zamrzovalna omara, NoFrost</td>\n      <td>NaN</td>\n      <td>Liebherr zamrzovalna omara s prostornino 277 l...</td>\n      <td>7.9.</td>\n      <td>Mimovrste</td>\n      <td>979.00</td>\n    </tr>\n    <tr>\n      <th>47</th>\n      <td>Liebherr FNc 7277 zamrzovalna omara, NoFrost</td>\n      <td>NaN</td>\n      <td>Liebherr zamrzovalna omara s prostornino 363 l...</td>\n      <td>11.9.</td>\n      <td>Mimovrste</td>\n      <td>1599.00</td>\n    </tr>\n    <tr>\n      <th>48</th>\n      <td>Liebherr UG 1211 okrasna podpultna zamrzovalna...</td>\n      <td>NaN</td>\n      <td>Okrasna podpultna zamrzovalna omara UG 1211 so...</td>\n      <td>7.9.</td>\n      <td>Mimovrste</td>\n      <td>879.00</td>\n    </tr>\n    <tr>\n      <th>49</th>\n      <td>Liebherr FNc 7076 zamrzovalna omara, NoFrost</td>\n      <td>NaN</td>\n      <td>Liebherr zamrzovalna omara s prostornino 311,6...</td>\n      <td>7.9.</td>\n      <td>Mimovrste</td>\n      <td>1499.00</td>\n    </tr>\n    <tr>\n      <th>50</th>\n      <td>Liebherr IFNe 3503 vgradna zamrzovalna omara s...</td>\n      <td>NaN</td>\n      <td>Vgradna zamrzovalna omara Liebherr IFNe 3503 s...</td>\n      <td>11.9.</td>\n      <td>Mimovrste</td>\n      <td>899.19</td>\n    </tr>\n    <tr>\n      <th>51</th>\n      <td>Liebherr SIFNAe 5188 vgradna zamrzovalna omara...</td>\n      <td>NaN</td>\n      <td>Vgradna zamrzovalna omara Liebherr SIFNAe 5188...</td>\n      <td>11.9.</td>\n      <td>Mimovrste</td>\n      <td>3349.00</td>\n    </tr>\n    <tr>\n      <th>52</th>\n      <td>Liebherr FNd 4625 zamrzovalna omara, NoFrost</td>\n      <td>NaN</td>\n      <td>Liebherr zamrzovalna omara s prostornino 199 l...</td>\n      <td>7.9.</td>\n      <td>Mimovrste</td>\n      <td>879.00</td>\n    </tr>\n    <tr>\n      <th>53</th>\n      <td>Liebherr FNd 7026 zamrzovalna omara, NoFrost</td>\n      <td>NaN</td>\n      <td>Liebherr zamrzovalna omara s prostornino 311 l...</td>\n      <td>7.9.</td>\n      <td>Mimovrste</td>\n      <td>1049.00</td>\n    </tr>\n    <tr>\n      <th>55</th>\n      <td>Liebherr IFNc 3553 vgradna zamrzovalna omara s...</td>\n      <td>NaN</td>\n      <td>Vgradna zamrzovalna omara Liebherr IFNc 3553 s...</td>\n      <td>11.9.</td>\n      <td>Mimovrste</td>\n      <td>999.00</td>\n    </tr>\n    <tr>\n      <th>56</th>\n      <td>Liebherr SFNbsd 529i samostojna zamrzovalna om...</td>\n      <td>NaN</td>\n      <td>Samostojna zamrzovalna omara Liebherr SFNbsd 5...</td>\n      <td>7.9.</td>\n      <td>Mimovrste</td>\n      <td>2249.00</td>\n    </tr>\n    <tr>\n      <th>57</th>\n      <td>Indesit OS 1A 200 H zamrzovalna skrinja</td>\n      <td>NaN</td>\n      <td>Indesit zamrzovalna skrinja OS 1A 200 H ima 20...</td>\n      <td>4.9.</td>\n      <td>Mimovrste</td>\n      <td>341.00</td>\n    </tr>\n    <tr>\n      <th>58</th>\n      <td>Liebherr FNc 6625 zamrzovalna omara, NoFrost</td>\n      <td>NaN</td>\n      <td>Liebherr zamrzovalna omara s prostornino 260 l...</td>\n      <td>7.9.</td>\n      <td>Mimovrste</td>\n      <td>1149.00</td>\n    </tr>\n    <tr>\n      <th>59</th>\n      <td>Liebherr SFNsdd 5267 zamrzovalna omara s siste...</td>\n      <td>NaN</td>\n      <td>Samostojna zamrzovalna omara Liebherr SFNsdd 5...</td>\n      <td>7.9.</td>\n      <td>Mimovrste</td>\n      <td>1599.00</td>\n    </tr>\n    <tr>\n      <th>61</th>\n      <td>Whirlpool WHE3133.1 prostostoječa zamrzovalna ...</td>\n      <td>NaN</td>\n      <td>Whirlpool WHE3133.1 prostostoječa zamrzovalna ...</td>\n      <td>NaN</td>\n      <td>Mimovrste</td>\n      <td>479.90</td>\n    </tr>\n    <tr>\n      <th>64</th>\n      <td>Liebherr FNc 4675 samostojna zamrzovalna omara...</td>\n      <td>NaN</td>\n      <td>Samostojna zamrzovalna omara Liebherr FNc 4675...</td>\n      <td>NaN</td>\n      <td>Mimovrste</td>\n      <td>1379.19</td>\n    </tr>\n    <tr>\n      <th>65</th>\n      <td>Bosch GIN81AEF0 vgradni zamrzovalnik</td>\n      <td>NaN</td>\n      <td>Vgradni zamrzovalnik Bosch GIN81AEF0 odlikuje ...</td>\n      <td>NaN</td>\n      <td>Mimovrste</td>\n      <td>1005.49</td>\n    </tr>\n    <tr>\n      <th>66</th>\n      <td>Compass Hladilna skrinja 50l 230V/12V mobilna</td>\n      <td>NaN</td>\n      <td>Prenosni hladilnik z možnostjo ogrevanja, ki s...</td>\n      <td>NaN</td>\n      <td>NaN</td>\n      <td>199.37</td>\n    </tr>\n    <tr>\n      <th>68</th>\n      <td>Indesit UI6 1 W.1 zamrzovalna omara</td>\n      <td>NaN</td>\n      <td>Indesit zamrzovalna omara UI6 1 W.1 spada v en...</td>\n      <td>NaN</td>\n      <td>Mimovrste</td>\n      <td>465.00</td>\n    </tr>\n  </tbody>\n</table>\n</div>"
     },
     "execution_count": 54,
     "metadata": {},
     "output_type": "execute_result"
    }
   ],
   "source": [
    "zmrzovalniki.sort_values(\"Število_Ocen\").tail(20)"
   ],
   "metadata": {
    "collapsed": false,
    "ExecuteTime": {
     "end_time": "2023-08-30T08:56:11.586225200Z",
     "start_time": "2023-08-30T08:56:11.530129400Z"
    }
   },
   "id": "5428281cd1f7889"
  },
  {
   "cell_type": "code",
   "execution_count": 36,
   "outputs": [],
   "source": [],
   "metadata": {
    "collapsed": false,
    "ExecuteTime": {
     "end_time": "2023-08-30T08:38:06.110820700Z",
     "start_time": "2023-08-30T08:38:06.081228900Z"
    }
   },
   "id": "110196299d666eb7"
  },
  {
   "cell_type": "code",
   "execution_count": 29,
   "outputs": [],
   "source": [],
   "metadata": {
    "collapsed": false,
    "ExecuteTime": {
     "end_time": "2023-08-29T18:21:06.046188700Z",
     "start_time": "2023-08-29T18:21:06.007724500Z"
    }
   },
   "id": "fa7069038f1aeda7"
  },
  {
   "cell_type": "code",
   "execution_count": null,
   "outputs": [],
   "source": [],
   "metadata": {
    "collapsed": false
   },
   "id": "77ccd55fa4052984"
  }
 ],
 "metadata": {
  "kernelspec": {
   "display_name": "Python 3 (ipykernel)",
   "language": "python",
   "name": "python3"
  },
  "language_info": {
   "codemirror_mode": {
    "name": "ipython",
    "version": 3
   },
   "file_extension": ".py",
   "mimetype": "text/x-python",
   "name": "python",
   "nbconvert_exporter": "python",
   "pygments_lexer": "ipython3",
   "version": "3.9.7"
  }
 },
 "nbformat": 4,
 "nbformat_minor": 5
}
