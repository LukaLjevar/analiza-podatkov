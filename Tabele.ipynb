{
 "cells": [
  {
   "cell_type": "code",
   "execution_count": 18,
   "id": "initial_id",
   "metadata": {
    "ExecuteTime": {
     "end_time": "2023-08-29T13:43:18.293298400Z",
     "start_time": "2023-08-29T13:43:18.255483700Z"
    }
   },
   "outputs": [
    {
     "data": {
      "text/plain": "   Unnamed: 0  ID_Produkta                                   Ime_Produkta  \\\n0           0       429649       Whirlpool WH1410 A+E zamrzovalna skrinja   \n1           1      2506980             Gorenje FN4171CW zamrzovalna omara   \n2           2      2506981              Gorenje F4141PW zamrzovalna omara   \n3           3      2516434               Gorenje F492PW zamrzovalna omara   \n4           4      2617002            Beko RFSA240M31WN zamrzovalna omara   \n5           5      2619374            Beko RFNE312E43WN zamrzovalna omara   \n6           6     28853488  VOX electronics BE1-200RL zamrzovalna skrinja   \n7           7     17491830            Gorenje FN619FEW5 zamrzovalna omara   \n8           8      2550077            Gorenje zamrzovalna skrinja FH451CW   \n9           9     28878913  VOX electronics VF 2520 S F zamrzovalna omara   \n\n  Število_Ocen                                               Opis  \\\n0         262x  Zamrzovalna skrinja venergijskem razredu F in ...   \n1         102x  Gorenje zamrzovalna omara ima 194litrov prosto...   \n2          88x  Gorenje zamrzovalna omara ima 165litrov prosto...   \n3          24x  Prostostoječa zamrzovalna omara F492PW se zahv...   \n4          60x  Zamrzovalna omara Beko RFSA240M31WN z215litri ...   \n5          63x  Prostostoječo zamrzovalno omaro Beko RFNE312E4...   \n6           2x  Vox-electronics BE1–200RL je zamrzovalna skrin...   \n7          41x  Gorenje zmrzovalna omara FN619FEW5 spada vener...   \n8          57x  Zamrzovalna skrinja venergijskem razredu E ssk...   \n9           3x  Vox prostorna zamrzovalna omara nudi 168l pros...   \n\n  Razpoložljivost    Partner     Cena  \n0           JUTRI  Mimovrste  239,99€  \n1           JUTRI  Mimovrste  419,90€  \n2           JUTRI  Mimovrste     329€  \n3           JUTRI  Mimovrste  259,90€  \n4           JUTRI  Mimovrste  374,30€  \n5           JUTRI  Mimovrste  613,50€  \n6           JUTRI  Mimovrste  206,99€  \n7           JUTRI  Mimovrste  499,99€  \n8           JUTRI  Mimovrste  429,90€  \n9           JUTRI  Mimovrste  260,99€  ",
      "text/html": "<div>\n<style scoped>\n    .dataframe tbody tr th:only-of-type {\n        vertical-align: middle;\n    }\n\n    .dataframe tbody tr th {\n        vertical-align: top;\n    }\n\n    .dataframe thead th {\n        text-align: right;\n    }\n</style>\n<table border=\"1\" class=\"dataframe\">\n  <thead>\n    <tr style=\"text-align: right;\">\n      <th></th>\n      <th>Unnamed: 0</th>\n      <th>ID_Produkta</th>\n      <th>Ime_Produkta</th>\n      <th>Število_Ocen</th>\n      <th>Opis</th>\n      <th>Razpoložljivost</th>\n      <th>Partner</th>\n      <th>Cena</th>\n    </tr>\n  </thead>\n  <tbody>\n    <tr>\n      <th>0</th>\n      <td>0</td>\n      <td>429649</td>\n      <td>Whirlpool WH1410 A+E zamrzovalna skrinja</td>\n      <td>262x</td>\n      <td>Zamrzovalna skrinja venergijskem razredu F in ...</td>\n      <td>JUTRI</td>\n      <td>Mimovrste</td>\n      <td>239,99€</td>\n    </tr>\n    <tr>\n      <th>1</th>\n      <td>1</td>\n      <td>2506980</td>\n      <td>Gorenje FN4171CW zamrzovalna omara</td>\n      <td>102x</td>\n      <td>Gorenje zamrzovalna omara ima 194litrov prosto...</td>\n      <td>JUTRI</td>\n      <td>Mimovrste</td>\n      <td>419,90€</td>\n    </tr>\n    <tr>\n      <th>2</th>\n      <td>2</td>\n      <td>2506981</td>\n      <td>Gorenje F4141PW zamrzovalna omara</td>\n      <td>88x</td>\n      <td>Gorenje zamrzovalna omara ima 165litrov prosto...</td>\n      <td>JUTRI</td>\n      <td>Mimovrste</td>\n      <td>329€</td>\n    </tr>\n    <tr>\n      <th>3</th>\n      <td>3</td>\n      <td>2516434</td>\n      <td>Gorenje F492PW zamrzovalna omara</td>\n      <td>24x</td>\n      <td>Prostostoječa zamrzovalna omara F492PW se zahv...</td>\n      <td>JUTRI</td>\n      <td>Mimovrste</td>\n      <td>259,90€</td>\n    </tr>\n    <tr>\n      <th>4</th>\n      <td>4</td>\n      <td>2617002</td>\n      <td>Beko RFSA240M31WN zamrzovalna omara</td>\n      <td>60x</td>\n      <td>Zamrzovalna omara Beko RFSA240M31WN z215litri ...</td>\n      <td>JUTRI</td>\n      <td>Mimovrste</td>\n      <td>374,30€</td>\n    </tr>\n    <tr>\n      <th>5</th>\n      <td>5</td>\n      <td>2619374</td>\n      <td>Beko RFNE312E43WN zamrzovalna omara</td>\n      <td>63x</td>\n      <td>Prostostoječo zamrzovalno omaro Beko RFNE312E4...</td>\n      <td>JUTRI</td>\n      <td>Mimovrste</td>\n      <td>613,50€</td>\n    </tr>\n    <tr>\n      <th>6</th>\n      <td>6</td>\n      <td>28853488</td>\n      <td>VOX electronics BE1-200RL zamrzovalna skrinja</td>\n      <td>2x</td>\n      <td>Vox-electronics BE1–200RL je zamrzovalna skrin...</td>\n      <td>JUTRI</td>\n      <td>Mimovrste</td>\n      <td>206,99€</td>\n    </tr>\n    <tr>\n      <th>7</th>\n      <td>7</td>\n      <td>17491830</td>\n      <td>Gorenje FN619FEW5 zamrzovalna omara</td>\n      <td>41x</td>\n      <td>Gorenje zmrzovalna omara FN619FEW5 spada vener...</td>\n      <td>JUTRI</td>\n      <td>Mimovrste</td>\n      <td>499,99€</td>\n    </tr>\n    <tr>\n      <th>8</th>\n      <td>8</td>\n      <td>2550077</td>\n      <td>Gorenje zamrzovalna skrinja FH451CW</td>\n      <td>57x</td>\n      <td>Zamrzovalna skrinja venergijskem razredu E ssk...</td>\n      <td>JUTRI</td>\n      <td>Mimovrste</td>\n      <td>429,90€</td>\n    </tr>\n    <tr>\n      <th>9</th>\n      <td>9</td>\n      <td>28878913</td>\n      <td>VOX electronics VF 2520 S F zamrzovalna omara</td>\n      <td>3x</td>\n      <td>Vox prostorna zamrzovalna omara nudi 168l pros...</td>\n      <td>JUTRI</td>\n      <td>Mimovrste</td>\n      <td>260,99€</td>\n    </tr>\n  </tbody>\n</table>\n</div>"
     },
     "execution_count": 18,
     "metadata": {},
     "output_type": "execute_result"
    }
   ],
   "source": [
    "import pandas as pd\n",
    "\n",
    "zmrzovalniki = pd.read_csv(\"podatki.csv\", sep=\";\")\n",
    "# Odstranjevanje &nbps\n",
    "zmrzovalniki.replace(\"\\xa0\", '', regex=True, inplace=True)\n",
    "# Shrani csv brez &nbps\n",
    "zmrzovalniki.to_csv(\"podatki.csv\", sep=\";\")\n",
    "# Izpis začetka dataframea\n",
    "zmrzovalniki.head(10)"
   ]
  },
  {
   "cell_type": "code",
   "execution_count": 19,
   "id": "7e404d2f6cec57f",
   "metadata": {
    "collapsed": false,
    "ExecuteTime": {
     "end_time": "2023-08-29T13:43:31.038266300Z",
     "start_time": "2023-08-29T13:43:30.991702200Z"
    }
   },
   "outputs": [
    {
     "data": {
      "text/plain": "    Unnamed: 0  ID_Produkta  \\\n40          40      2833221   \n21          21     19196298   \n37          37     28930343   \n39          39     28931796   \n32          32      2959707   \n52          52     28597672   \n48          48     10541064   \n50          50     10520939   \n46          46     28599401   \n55          55     10485407   \n\n                                         Ime_Produkta Število_Ocen  \\\n40               Bosch GIV21AFE0 vgradni zamrzovalnik          NaN   \n21               Gorenje FN619EAXL6 zamrzovalna omara           5x   \n37       Liebherr GNe 50Z6 zamrzovalna omara, NoFrost          NaN   \n39       Liebherr GNe 52Z7 zamrzovalna omara, NoFrost          NaN   \n32                 Beko RFNE448E45W zamrzovalna omara          55x   \n52       Liebherr FNd 4625 zamrzovalna omara, NoFrost          NaN   \n48  Liebherr UG 1211 okrasna podpultna zamrzovalna...          NaN   \n50  Liebherr IFNe 3503 vgradna zamrzovalna omara s...          NaN   \n46       Liebherr FNd 5227 zamrzovalna omara, NoFrost          NaN   \n55  Liebherr IFNc 3553 vgradna zamrzovalna omara s...          NaN   \n\n                                                 Opis Razpoložljivost  \\\n40  Bosch GIV21AFE0 vgradni zamrzovalnik sprostorn...            4.9.   \n21  Gorenje FN619EAXL6 zamrzovalna omara ponuja 28...           JUTRI   \n37  Liebherr zamrzovalna omara sprostornino 238,8l...            7.9.   \n39  Liebherr zamrzovalna omara sprostornino 277,9l...            7.9.   \n32  Zamrzovalna omara Beko RFNE448E45W sfunkcijo N...            1.9.   \n52  Liebherr zamrzovalna omara sprostornino 199l s...            7.9.   \n48  Okrasna podpultna zamrzovalna omara UG 1211sod...            7.9.   \n50  Vgradna zamrzovalna omara Liebherr IFNe 3503sp...           11.9.   \n46  Liebherr zamrzovalna omara sprostornino 277l s...            7.9.   \n55  Vgradna zamrzovalna omara Liebherr IFNc 3553sp...           11.9.   \n\n      Partner     Cena  \n40  Mimovrste     675€  \n21  Mimovrste  679,90€  \n37  Mimovrste     699€  \n39  Mimovrste     749€  \n32  Mimovrste  757,90€  \n52  Mimovrste     879€  \n48  Mimovrste     879€  \n50  Mimovrste  899,19€  \n46  Mimovrste     979€  \n55  Mimovrste     999€  ",
      "text/html": "<div>\n<style scoped>\n    .dataframe tbody tr th:only-of-type {\n        vertical-align: middle;\n    }\n\n    .dataframe tbody tr th {\n        vertical-align: top;\n    }\n\n    .dataframe thead th {\n        text-align: right;\n    }\n</style>\n<table border=\"1\" class=\"dataframe\">\n  <thead>\n    <tr style=\"text-align: right;\">\n      <th></th>\n      <th>Unnamed: 0</th>\n      <th>ID_Produkta</th>\n      <th>Ime_Produkta</th>\n      <th>Število_Ocen</th>\n      <th>Opis</th>\n      <th>Razpoložljivost</th>\n      <th>Partner</th>\n      <th>Cena</th>\n    </tr>\n  </thead>\n  <tbody>\n    <tr>\n      <th>40</th>\n      <td>40</td>\n      <td>2833221</td>\n      <td>Bosch GIV21AFE0 vgradni zamrzovalnik</td>\n      <td>NaN</td>\n      <td>Bosch GIV21AFE0 vgradni zamrzovalnik sprostorn...</td>\n      <td>4.9.</td>\n      <td>Mimovrste</td>\n      <td>675€</td>\n    </tr>\n    <tr>\n      <th>21</th>\n      <td>21</td>\n      <td>19196298</td>\n      <td>Gorenje FN619EAXL6 zamrzovalna omara</td>\n      <td>5x</td>\n      <td>Gorenje FN619EAXL6 zamrzovalna omara ponuja 28...</td>\n      <td>JUTRI</td>\n      <td>Mimovrste</td>\n      <td>679,90€</td>\n    </tr>\n    <tr>\n      <th>37</th>\n      <td>37</td>\n      <td>28930343</td>\n      <td>Liebherr GNe 50Z6 zamrzovalna omara, NoFrost</td>\n      <td>NaN</td>\n      <td>Liebherr zamrzovalna omara sprostornino 238,8l...</td>\n      <td>7.9.</td>\n      <td>Mimovrste</td>\n      <td>699€</td>\n    </tr>\n    <tr>\n      <th>39</th>\n      <td>39</td>\n      <td>28931796</td>\n      <td>Liebherr GNe 52Z7 zamrzovalna omara, NoFrost</td>\n      <td>NaN</td>\n      <td>Liebherr zamrzovalna omara sprostornino 277,9l...</td>\n      <td>7.9.</td>\n      <td>Mimovrste</td>\n      <td>749€</td>\n    </tr>\n    <tr>\n      <th>32</th>\n      <td>32</td>\n      <td>2959707</td>\n      <td>Beko RFNE448E45W zamrzovalna omara</td>\n      <td>55x</td>\n      <td>Zamrzovalna omara Beko RFNE448E45W sfunkcijo N...</td>\n      <td>1.9.</td>\n      <td>Mimovrste</td>\n      <td>757,90€</td>\n    </tr>\n    <tr>\n      <th>52</th>\n      <td>52</td>\n      <td>28597672</td>\n      <td>Liebherr FNd 4625 zamrzovalna omara, NoFrost</td>\n      <td>NaN</td>\n      <td>Liebherr zamrzovalna omara sprostornino 199l s...</td>\n      <td>7.9.</td>\n      <td>Mimovrste</td>\n      <td>879€</td>\n    </tr>\n    <tr>\n      <th>48</th>\n      <td>48</td>\n      <td>10541064</td>\n      <td>Liebherr UG 1211 okrasna podpultna zamrzovalna...</td>\n      <td>NaN</td>\n      <td>Okrasna podpultna zamrzovalna omara UG 1211sod...</td>\n      <td>7.9.</td>\n      <td>Mimovrste</td>\n      <td>879€</td>\n    </tr>\n    <tr>\n      <th>50</th>\n      <td>50</td>\n      <td>10520939</td>\n      <td>Liebherr IFNe 3503 vgradna zamrzovalna omara s...</td>\n      <td>NaN</td>\n      <td>Vgradna zamrzovalna omara Liebherr IFNe 3503sp...</td>\n      <td>11.9.</td>\n      <td>Mimovrste</td>\n      <td>899,19€</td>\n    </tr>\n    <tr>\n      <th>46</th>\n      <td>46</td>\n      <td>28599401</td>\n      <td>Liebherr FNd 5227 zamrzovalna omara, NoFrost</td>\n      <td>NaN</td>\n      <td>Liebherr zamrzovalna omara sprostornino 277l s...</td>\n      <td>7.9.</td>\n      <td>Mimovrste</td>\n      <td>979€</td>\n    </tr>\n    <tr>\n      <th>55</th>\n      <td>55</td>\n      <td>10485407</td>\n      <td>Liebherr IFNc 3553 vgradna zamrzovalna omara s...</td>\n      <td>NaN</td>\n      <td>Vgradna zamrzovalna omara Liebherr IFNc 3553sp...</td>\n      <td>11.9.</td>\n      <td>Mimovrste</td>\n      <td>999€</td>\n    </tr>\n  </tbody>\n</table>\n</div>"
     },
     "execution_count": 19,
     "metadata": {},
     "output_type": "execute_result"
    }
   ],
   "source": [
    "zmrzovalniki.sort_values(\"Cena\").tail(10)"
   ]
  },
  {
   "cell_type": "code",
   "execution_count": null,
   "outputs": [],
   "source": [],
   "metadata": {
    "collapsed": false
   },
   "id": "5428281cd1f7889"
  }
 ],
 "metadata": {
  "kernelspec": {
   "display_name": "Python 3 (ipykernel)",
   "language": "python",
   "name": "python3"
  },
  "language_info": {
   "codemirror_mode": {
    "name": "ipython",
    "version": 3
   },
   "file_extension": ".py",
   "mimetype": "text/x-python",
   "name": "python",
   "nbconvert_exporter": "python",
   "pygments_lexer": "ipython3",
   "version": "3.9.7"
  }
 },
 "nbformat": 4,
 "nbformat_minor": 5
}
