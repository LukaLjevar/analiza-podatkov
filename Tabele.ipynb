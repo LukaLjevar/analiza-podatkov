{
 "cells": [
  {
   "cell_type": "markdown",
   "source": [
    "## Prvih deset zmrzovalniki s spletne strani:"
   ],
   "metadata": {
    "collapsed": false
   },
   "id": "f115acdb9414df43"
  },
  {
   "cell_type": "code",
   "execution_count": 5,
   "outputs": [
    {
     "data": {
      "text/plain": "                                    Ime_Produkta  Število_Ocen  \\\n0       Whirlpool WH1410 A+E zamrzovalna skrinja           262   \n1           GUZZANTI pultni zamrzovalnik GZ 220A            16   \n2             Gorenje FN4171CW zamrzovalna omara           102   \n3              Gorenje F4141PW zamrzovalna omara            88   \n4            Beko RFNE312E43WN zamrzovalna omara            63   \n5  VOX electronics BE1-200RL zamrzovalna skrinja             3   \n6            Beko RFSA240M31WN zamrzovalna omara            60   \n7            Gorenje zamrzovalna skrinja FH451CW            57   \n8            Gorenje FN619FEW5 zamrzovalna omara            41   \n9  VOX electronics VF 2520 S F zamrzovalna omara             3   \n\n                                                Opis Razpoložljivost  \\\n0  Zamrzovalna skrinja v energijskem razredu F in...           JUTRI   \n1  Pultni zamrzovalnik v energijskem razredu E im...           JUTRI   \n2  Gorenje zamrzovalna omara ima 194 litrov prost...           TAKOJ   \n3  Gorenje zamrzovalna omara ima 165 litrov prost...           JUTRI   \n4  Prostostoječo zamrzovalno omaro Beko RFNE312E4...           TAKOJ   \n5  Vox-electronics BE1–200RL je zamrzovalna skrin...           TAKOJ   \n6  Zamrzovalna omara Beko RFSA240M31WN z 215 litr...           TAKOJ   \n7  Zamrzovalna skrinja v energijskem razredu E s ...             NaN   \n8  Gorenje zmrzovalna omara FN619FEW5 spada v ene...           JUTRI   \n9  Vox prostorna zamrzovalna omara nudi 168 l pro...           TAKOJ   \n\n     Partner  Cena_v_Evrih  \n0  Mimovrste        239.99  \n1  Mimovrste        323.70  \n2  Mimovrste        419.90  \n3  Mimovrste        329.00  \n4  Mimovrste        613.50  \n5  Mimovrste        229.99  \n6  Mimovrste        374.30  \n7  Mimovrste        429.90  \n8  Mimovrste        499.99  \n9  Mimovrste        289.00  ",
      "text/html": "<div>\n<style scoped>\n    .dataframe tbody tr th:only-of-type {\n        vertical-align: middle;\n    }\n\n    .dataframe tbody tr th {\n        vertical-align: top;\n    }\n\n    .dataframe thead th {\n        text-align: right;\n    }\n</style>\n<table border=\"1\" class=\"dataframe\">\n  <thead>\n    <tr style=\"text-align: right;\">\n      <th></th>\n      <th>Ime_Produkta</th>\n      <th>Število_Ocen</th>\n      <th>Opis</th>\n      <th>Razpoložljivost</th>\n      <th>Partner</th>\n      <th>Cena_v_Evrih</th>\n    </tr>\n  </thead>\n  <tbody>\n    <tr>\n      <th>0</th>\n      <td>Whirlpool WH1410 A+E zamrzovalna skrinja</td>\n      <td>262</td>\n      <td>Zamrzovalna skrinja v energijskem razredu F in...</td>\n      <td>JUTRI</td>\n      <td>Mimovrste</td>\n      <td>239.99</td>\n    </tr>\n    <tr>\n      <th>1</th>\n      <td>GUZZANTI pultni zamrzovalnik GZ 220A</td>\n      <td>16</td>\n      <td>Pultni zamrzovalnik v energijskem razredu E im...</td>\n      <td>JUTRI</td>\n      <td>Mimovrste</td>\n      <td>323.70</td>\n    </tr>\n    <tr>\n      <th>2</th>\n      <td>Gorenje FN4171CW zamrzovalna omara</td>\n      <td>102</td>\n      <td>Gorenje zamrzovalna omara ima 194 litrov prost...</td>\n      <td>TAKOJ</td>\n      <td>Mimovrste</td>\n      <td>419.90</td>\n    </tr>\n    <tr>\n      <th>3</th>\n      <td>Gorenje F4141PW zamrzovalna omara</td>\n      <td>88</td>\n      <td>Gorenje zamrzovalna omara ima 165 litrov prost...</td>\n      <td>JUTRI</td>\n      <td>Mimovrste</td>\n      <td>329.00</td>\n    </tr>\n    <tr>\n      <th>4</th>\n      <td>Beko RFNE312E43WN zamrzovalna omara</td>\n      <td>63</td>\n      <td>Prostostoječo zamrzovalno omaro Beko RFNE312E4...</td>\n      <td>TAKOJ</td>\n      <td>Mimovrste</td>\n      <td>613.50</td>\n    </tr>\n    <tr>\n      <th>5</th>\n      <td>VOX electronics BE1-200RL zamrzovalna skrinja</td>\n      <td>3</td>\n      <td>Vox-electronics BE1–200RL je zamrzovalna skrin...</td>\n      <td>TAKOJ</td>\n      <td>Mimovrste</td>\n      <td>229.99</td>\n    </tr>\n    <tr>\n      <th>6</th>\n      <td>Beko RFSA240M31WN zamrzovalna omara</td>\n      <td>60</td>\n      <td>Zamrzovalna omara Beko RFSA240M31WN z 215 litr...</td>\n      <td>TAKOJ</td>\n      <td>Mimovrste</td>\n      <td>374.30</td>\n    </tr>\n    <tr>\n      <th>7</th>\n      <td>Gorenje zamrzovalna skrinja FH451CW</td>\n      <td>57</td>\n      <td>Zamrzovalna skrinja v energijskem razredu E s ...</td>\n      <td>NaN</td>\n      <td>Mimovrste</td>\n      <td>429.90</td>\n    </tr>\n    <tr>\n      <th>8</th>\n      <td>Gorenje FN619FEW5 zamrzovalna omara</td>\n      <td>41</td>\n      <td>Gorenje zmrzovalna omara FN619FEW5 spada v ene...</td>\n      <td>JUTRI</td>\n      <td>Mimovrste</td>\n      <td>499.99</td>\n    </tr>\n    <tr>\n      <th>9</th>\n      <td>VOX electronics VF 2520 S F zamrzovalna omara</td>\n      <td>3</td>\n      <td>Vox prostorna zamrzovalna omara nudi 168 l pro...</td>\n      <td>TAKOJ</td>\n      <td>Mimovrste</td>\n      <td>289.00</td>\n    </tr>\n  </tbody>\n</table>\n</div>"
     },
     "execution_count": 5,
     "metadata": {},
     "output_type": "execute_result"
    }
   ],
   "source": [
    "import pandas as pd\n",
    "#index_col=0 odstrani nepotreben stolpec \"Unnamed\"\n",
    "zmrzovalniki = pd.read_csv(\"podatki.csv\", sep=\";\", index_col=0)\n",
    "# Izpis začetka dataframea\n",
    "zmrzovalniki.head(10)"
   ],
   "metadata": {
    "collapsed": false,
    "ExecuteTime": {
     "end_time": "2023-08-30T18:32:20.361220800Z",
     "start_time": "2023-08-30T18:32:20.309095900Z"
    }
   },
   "id": "3b8f07e7d6ddbc29"
  },
  {
   "cell_type": "markdown",
   "source": [
    "## Prvih 10 najcenejših zmrzovalnikov:"
   ],
   "metadata": {
    "collapsed": false
   },
   "id": "701b94c32671f2e6"
  },
  {
   "cell_type": "code",
   "execution_count": 8,
   "id": "7e404d2f6cec57f",
   "metadata": {
    "collapsed": false,
    "ExecuteTime": {
     "end_time": "2023-08-30T18:39:33.616942800Z",
     "start_time": "2023-08-30T18:39:33.560162100Z"
    }
   },
   "outputs": [
    {
     "data": {
      "text/plain": "                                     Ime_Produkta  Število_Ocen  \\\n64                    GUZZANTI GZ 99 zamrzovalnik             7   \n14   VOX electronics VF 1200 F zamrzovalnik, 63 l             3   \n10         VOX electronics VF 1510 F zamrzovalnik            48   \n66  Compass Hladilna skrinja 50l 230V/12V mobilna             0   \n44             Candy CUHS 38 FW zamrzovalna omara             0   \n67            GUZZANTI zamrzovalna skrinja GZ 109            24   \n34                  GUZZANTI GZ 101S zamrzovalnik            18   \n33            GUZZANTI GZ 145 zamrzovalna skrinja            32   \n5   VOX electronics BE1-200RL zamrzovalna skrinja             3   \n17                      LORD zamrzovalna omara F3            50   \n\n                                                 Opis Razpoložljivost  \\\n64  Samostoječi zamrzovalnik v energetskem razredu...             NaN   \n14  VOX zamrzovalna omara VF 1200F je cenovno ugod...           TAKOJ   \n10  Prostostoječi vertikalni zamrzovalnik Vox VF 1...           JUTRI   \n66  Prenosni hladilnik z možnostjo ogrevanja, ki s...             NaN   \n44  Zamrzovalna omara Candy CUHS 38 FW s skupno pr...            6.9.   \n67  Zamrzovalna skrinja Guzzanti GZ 109 v energijs...             NaN   \n34  Prostorni zamrzovalnik v energijskem razredu A...            4.9.   \n33  Zamrzovalna skrinja Guzzanti GZ 145 spada v en...            4.9.   \n5   Vox-electronics BE1–200RL je zamrzovalna skrin...           TAKOJ   \n17  Zamrzovalna omara LORD F3, z uporabno prostorn...           JUTRI   \n\n      Partner  Cena_v_Evrih  \n64  Mimovrste        174.90  \n14  Mimovrste        189.99  \n10  Mimovrste        199.00  \n66        NaN        199.37  \n44  Mimovrste        199.90  \n67  Mimovrste        217.80  \n34  Mimovrste        218.70  \n33  Mimovrste        221.79  \n5   Mimovrste        229.99  \n17  Mimovrste        229.99  ",
      "text/html": "<div>\n<style scoped>\n    .dataframe tbody tr th:only-of-type {\n        vertical-align: middle;\n    }\n\n    .dataframe tbody tr th {\n        vertical-align: top;\n    }\n\n    .dataframe thead th {\n        text-align: right;\n    }\n</style>\n<table border=\"1\" class=\"dataframe\">\n  <thead>\n    <tr style=\"text-align: right;\">\n      <th></th>\n      <th>Ime_Produkta</th>\n      <th>Število_Ocen</th>\n      <th>Opis</th>\n      <th>Razpoložljivost</th>\n      <th>Partner</th>\n      <th>Cena_v_Evrih</th>\n    </tr>\n  </thead>\n  <tbody>\n    <tr>\n      <th>64</th>\n      <td>GUZZANTI GZ 99 zamrzovalnik</td>\n      <td>7</td>\n      <td>Samostoječi zamrzovalnik v energetskem razredu...</td>\n      <td>NaN</td>\n      <td>Mimovrste</td>\n      <td>174.90</td>\n    </tr>\n    <tr>\n      <th>14</th>\n      <td>VOX electronics VF 1200 F zamrzovalnik, 63 l</td>\n      <td>3</td>\n      <td>VOX zamrzovalna omara VF 1200F je cenovno ugod...</td>\n      <td>TAKOJ</td>\n      <td>Mimovrste</td>\n      <td>189.99</td>\n    </tr>\n    <tr>\n      <th>10</th>\n      <td>VOX electronics VF 1510 F zamrzovalnik</td>\n      <td>48</td>\n      <td>Prostostoječi vertikalni zamrzovalnik Vox VF 1...</td>\n      <td>JUTRI</td>\n      <td>Mimovrste</td>\n      <td>199.00</td>\n    </tr>\n    <tr>\n      <th>66</th>\n      <td>Compass Hladilna skrinja 50l 230V/12V mobilna</td>\n      <td>0</td>\n      <td>Prenosni hladilnik z možnostjo ogrevanja, ki s...</td>\n      <td>NaN</td>\n      <td>NaN</td>\n      <td>199.37</td>\n    </tr>\n    <tr>\n      <th>44</th>\n      <td>Candy CUHS 38 FW zamrzovalna omara</td>\n      <td>0</td>\n      <td>Zamrzovalna omara Candy CUHS 38 FW s skupno pr...</td>\n      <td>6.9.</td>\n      <td>Mimovrste</td>\n      <td>199.90</td>\n    </tr>\n    <tr>\n      <th>67</th>\n      <td>GUZZANTI zamrzovalna skrinja GZ 109</td>\n      <td>24</td>\n      <td>Zamrzovalna skrinja Guzzanti GZ 109 v energijs...</td>\n      <td>NaN</td>\n      <td>Mimovrste</td>\n      <td>217.80</td>\n    </tr>\n    <tr>\n      <th>34</th>\n      <td>GUZZANTI GZ 101S zamrzovalnik</td>\n      <td>18</td>\n      <td>Prostorni zamrzovalnik v energijskem razredu A...</td>\n      <td>4.9.</td>\n      <td>Mimovrste</td>\n      <td>218.70</td>\n    </tr>\n    <tr>\n      <th>33</th>\n      <td>GUZZANTI GZ 145 zamrzovalna skrinja</td>\n      <td>32</td>\n      <td>Zamrzovalna skrinja Guzzanti GZ 145 spada v en...</td>\n      <td>4.9.</td>\n      <td>Mimovrste</td>\n      <td>221.79</td>\n    </tr>\n    <tr>\n      <th>5</th>\n      <td>VOX electronics BE1-200RL zamrzovalna skrinja</td>\n      <td>3</td>\n      <td>Vox-electronics BE1–200RL je zamrzovalna skrin...</td>\n      <td>TAKOJ</td>\n      <td>Mimovrste</td>\n      <td>229.99</td>\n    </tr>\n    <tr>\n      <th>17</th>\n      <td>LORD zamrzovalna omara F3</td>\n      <td>50</td>\n      <td>Zamrzovalna omara LORD F3, z uporabno prostorn...</td>\n      <td>JUTRI</td>\n      <td>Mimovrste</td>\n      <td>229.99</td>\n    </tr>\n  </tbody>\n</table>\n</div>"
     },
     "execution_count": 8,
     "metadata": {},
     "output_type": "execute_result"
    }
   ],
   "source": [
    "zmrzovalniki.sort_values(\"Cena_v_Evrih\").head(10)"
   ]
  },
  {
   "cell_type": "markdown",
   "source": [
    "## Zmrzovalniki, ki so bili ocenjeni več kot petdesetkrat:"
   ],
   "metadata": {
    "collapsed": false
   },
   "id": "d448a66ee1858042"
  },
  {
   "cell_type": "code",
   "execution_count": 3,
   "outputs": [
    {
     "data": {
      "text/plain": "                                Ime_Produkta  Število_Ocen  \\\n0   Whirlpool WH1410 A+E zamrzovalna skrinja           262   \n2         Gorenje FN4171CW zamrzovalna omara           102   \n3          Gorenje F4141PW zamrzovalna omara            88   \n4        Beko RFNE312E43WN zamrzovalna omara            63   \n6        Beko RFSA240M31WN zamrzovalna omara            60   \n7        Gorenje zamrzovalna skrinja FH451CW            57   \n35        Beko RFNE448E45W zamrzovalna omara            55   \n\n                                                 Opis Razpoložljivost  \\\n0   Zamrzovalna skrinja v energijskem razredu F in...           JUTRI   \n2   Gorenje zamrzovalna omara ima 194 litrov prost...           TAKOJ   \n3   Gorenje zamrzovalna omara ima 165 litrov prost...           JUTRI   \n4   Prostostoječo zamrzovalno omaro Beko RFNE312E4...           TAKOJ   \n6   Zamrzovalna omara Beko RFSA240M31WN z 215 litr...           TAKOJ   \n7   Zamrzovalna skrinja v energijskem razredu E s ...             NaN   \n35  Zamrzovalna omara Beko RFNE448E45W s funkcijo ...            4.9.   \n\n      Partner  Cena_v_Evrih  \n0   Mimovrste        239.99  \n2   Mimovrste        419.90  \n3   Mimovrste        329.00  \n4   Mimovrste        613.50  \n6   Mimovrste        374.30  \n7   Mimovrste        429.90  \n35  Mimovrste        757.90  ",
      "text/html": "<div>\n<style scoped>\n    .dataframe tbody tr th:only-of-type {\n        vertical-align: middle;\n    }\n\n    .dataframe tbody tr th {\n        vertical-align: top;\n    }\n\n    .dataframe thead th {\n        text-align: right;\n    }\n</style>\n<table border=\"1\" class=\"dataframe\">\n  <thead>\n    <tr style=\"text-align: right;\">\n      <th></th>\n      <th>Ime_Produkta</th>\n      <th>Število_Ocen</th>\n      <th>Opis</th>\n      <th>Razpoložljivost</th>\n      <th>Partner</th>\n      <th>Cena_v_Evrih</th>\n    </tr>\n  </thead>\n  <tbody>\n    <tr>\n      <th>0</th>\n      <td>Whirlpool WH1410 A+E zamrzovalna skrinja</td>\n      <td>262</td>\n      <td>Zamrzovalna skrinja v energijskem razredu F in...</td>\n      <td>JUTRI</td>\n      <td>Mimovrste</td>\n      <td>239.99</td>\n    </tr>\n    <tr>\n      <th>2</th>\n      <td>Gorenje FN4171CW zamrzovalna omara</td>\n      <td>102</td>\n      <td>Gorenje zamrzovalna omara ima 194 litrov prost...</td>\n      <td>TAKOJ</td>\n      <td>Mimovrste</td>\n      <td>419.90</td>\n    </tr>\n    <tr>\n      <th>3</th>\n      <td>Gorenje F4141PW zamrzovalna omara</td>\n      <td>88</td>\n      <td>Gorenje zamrzovalna omara ima 165 litrov prost...</td>\n      <td>JUTRI</td>\n      <td>Mimovrste</td>\n      <td>329.00</td>\n    </tr>\n    <tr>\n      <th>4</th>\n      <td>Beko RFNE312E43WN zamrzovalna omara</td>\n      <td>63</td>\n      <td>Prostostoječo zamrzovalno omaro Beko RFNE312E4...</td>\n      <td>TAKOJ</td>\n      <td>Mimovrste</td>\n      <td>613.50</td>\n    </tr>\n    <tr>\n      <th>6</th>\n      <td>Beko RFSA240M31WN zamrzovalna omara</td>\n      <td>60</td>\n      <td>Zamrzovalna omara Beko RFSA240M31WN z 215 litr...</td>\n      <td>TAKOJ</td>\n      <td>Mimovrste</td>\n      <td>374.30</td>\n    </tr>\n    <tr>\n      <th>7</th>\n      <td>Gorenje zamrzovalna skrinja FH451CW</td>\n      <td>57</td>\n      <td>Zamrzovalna skrinja v energijskem razredu E s ...</td>\n      <td>NaN</td>\n      <td>Mimovrste</td>\n      <td>429.90</td>\n    </tr>\n    <tr>\n      <th>35</th>\n      <td>Beko RFNE448E45W zamrzovalna omara</td>\n      <td>55</td>\n      <td>Zamrzovalna omara Beko RFNE448E45W s funkcijo ...</td>\n      <td>4.9.</td>\n      <td>Mimovrste</td>\n      <td>757.90</td>\n    </tr>\n  </tbody>\n</table>\n</div>"
     },
     "execution_count": 3,
     "metadata": {},
     "output_type": "execute_result"
    }
   ],
   "source": [
    "zmrzovalniki[(zmrzovalniki.Število_Ocen != \"NaN\") & (zmrzovalniki.Število_Ocen > 50)]"
   ],
   "metadata": {
    "collapsed": false,
    "ExecuteTime": {
     "end_time": "2023-08-30T16:24:52.385644600Z",
     "start_time": "2023-08-30T16:24:52.260642800Z"
    }
   },
   "id": "5428281cd1f7889"
  },
  {
   "cell_type": "markdown",
   "source": [
    "## Zmrzovalniki, ki so cenejši od 300 € in na voljo danes ali jutri:"
   ],
   "metadata": {
    "collapsed": false
   },
   "id": "651a618893cf28b1"
  },
  {
   "cell_type": "code",
   "execution_count": 7,
   "outputs": [
    {
     "data": {
      "text/plain": "                                     Ime_Produkta  Število_Ocen  \\\n0        Whirlpool WH1410 A+E zamrzovalna skrinja           262   \n5   VOX electronics BE1-200RL zamrzovalna skrinja             3   \n9   VOX electronics VF 2520 S F zamrzovalna omara             3   \n10         VOX electronics VF 1510 F zamrzovalnik            48   \n12             TESLA RH2000M1 zamrzovalna skrinja            44   \n14   VOX electronics VF 1200 F zamrzovalnik, 63 l             3   \n17                      LORD zamrzovalna omara F3            50   \n\n                                                 Opis Razpoložljivost  \\\n0   Zamrzovalna skrinja v energijskem razredu F in...           JUTRI   \n5   Vox-electronics BE1–200RL je zamrzovalna skrin...           TAKOJ   \n9   Vox prostorna zamrzovalna omara nudi 168 l pro...           TAKOJ   \n10  Prostostoječi vertikalni zamrzovalnik Vox VF 1...           JUTRI   \n12  Zamrzovalna skrinja Tesla RH2000M1 z 198 litri...           JUTRI   \n14  VOX zamrzovalna omara VF 1200F je cenovno ugod...           TAKOJ   \n17  Zamrzovalna omara LORD F3, z uporabno prostorn...           JUTRI   \n\n      Partner  Cena_v_Evrih  \n0   Mimovrste        239.99  \n5   Mimovrste        229.99  \n9   Mimovrste        289.00  \n10  Mimovrste        199.00  \n12  Mimovrste        259.90  \n14  Mimovrste        189.99  \n17  Mimovrste        229.99  ",
      "text/html": "<div>\n<style scoped>\n    .dataframe tbody tr th:only-of-type {\n        vertical-align: middle;\n    }\n\n    .dataframe tbody tr th {\n        vertical-align: top;\n    }\n\n    .dataframe thead th {\n        text-align: right;\n    }\n</style>\n<table border=\"1\" class=\"dataframe\">\n  <thead>\n    <tr style=\"text-align: right;\">\n      <th></th>\n      <th>Ime_Produkta</th>\n      <th>Število_Ocen</th>\n      <th>Opis</th>\n      <th>Razpoložljivost</th>\n      <th>Partner</th>\n      <th>Cena_v_Evrih</th>\n    </tr>\n  </thead>\n  <tbody>\n    <tr>\n      <th>0</th>\n      <td>Whirlpool WH1410 A+E zamrzovalna skrinja</td>\n      <td>262</td>\n      <td>Zamrzovalna skrinja v energijskem razredu F in...</td>\n      <td>JUTRI</td>\n      <td>Mimovrste</td>\n      <td>239.99</td>\n    </tr>\n    <tr>\n      <th>5</th>\n      <td>VOX electronics BE1-200RL zamrzovalna skrinja</td>\n      <td>3</td>\n      <td>Vox-electronics BE1–200RL je zamrzovalna skrin...</td>\n      <td>TAKOJ</td>\n      <td>Mimovrste</td>\n      <td>229.99</td>\n    </tr>\n    <tr>\n      <th>9</th>\n      <td>VOX electronics VF 2520 S F zamrzovalna omara</td>\n      <td>3</td>\n      <td>Vox prostorna zamrzovalna omara nudi 168 l pro...</td>\n      <td>TAKOJ</td>\n      <td>Mimovrste</td>\n      <td>289.00</td>\n    </tr>\n    <tr>\n      <th>10</th>\n      <td>VOX electronics VF 1510 F zamrzovalnik</td>\n      <td>48</td>\n      <td>Prostostoječi vertikalni zamrzovalnik Vox VF 1...</td>\n      <td>JUTRI</td>\n      <td>Mimovrste</td>\n      <td>199.00</td>\n    </tr>\n    <tr>\n      <th>12</th>\n      <td>TESLA RH2000M1 zamrzovalna skrinja</td>\n      <td>44</td>\n      <td>Zamrzovalna skrinja Tesla RH2000M1 z 198 litri...</td>\n      <td>JUTRI</td>\n      <td>Mimovrste</td>\n      <td>259.90</td>\n    </tr>\n    <tr>\n      <th>14</th>\n      <td>VOX electronics VF 1200 F zamrzovalnik, 63 l</td>\n      <td>3</td>\n      <td>VOX zamrzovalna omara VF 1200F je cenovno ugod...</td>\n      <td>TAKOJ</td>\n      <td>Mimovrste</td>\n      <td>189.99</td>\n    </tr>\n    <tr>\n      <th>17</th>\n      <td>LORD zamrzovalna omara F3</td>\n      <td>50</td>\n      <td>Zamrzovalna omara LORD F3, z uporabno prostorn...</td>\n      <td>JUTRI</td>\n      <td>Mimovrste</td>\n      <td>229.99</td>\n    </tr>\n  </tbody>\n</table>\n</div>"
     },
     "execution_count": 7,
     "metadata": {},
     "output_type": "execute_result"
    }
   ],
   "source": [
    "zmrzovalniki[(zmrzovalniki.Cena_v_Evrih < 300) & ((zmrzovalniki.Razpoložljivost == \"JUTRI\") | (zmrzovalniki.Razpoložljivost == \"TAKOJ\"))]"
   ],
   "metadata": {
    "collapsed": false,
    "ExecuteTime": {
     "end_time": "2023-08-30T18:35:46.125958200Z",
     "start_time": "2023-08-30T18:35:46.037445300Z"
    }
   },
   "id": "110196299d666eb7"
  },
  {
   "cell_type": "code",
   "execution_count": 4,
   "outputs": [],
   "source": [],
   "metadata": {
    "collapsed": false,
    "ExecuteTime": {
     "end_time": "2023-08-30T16:24:52.496381500Z",
     "start_time": "2023-08-30T16:24:52.323157300Z"
    }
   },
   "id": "fa7069038f1aeda7"
  },
  {
   "cell_type": "code",
   "execution_count": 4,
   "outputs": [],
   "source": [],
   "metadata": {
    "collapsed": false,
    "ExecuteTime": {
     "end_time": "2023-08-30T16:24:52.508847500Z",
     "start_time": "2023-08-30T16:24:52.338806700Z"
    }
   },
   "id": "77ccd55fa4052984"
  }
 ],
 "metadata": {
  "kernelspec": {
   "display_name": "Python 3 (ipykernel)",
   "language": "python",
   "name": "python3"
  },
  "language_info": {
   "codemirror_mode": {
    "name": "ipython",
    "version": 3
   },
   "file_extension": ".py",
   "mimetype": "text/x-python",
   "name": "python",
   "nbconvert_exporter": "python",
   "pygments_lexer": "ipython3",
   "version": "3.9.7"
  }
 },
 "nbformat": 4,
 "nbformat_minor": 5
}
